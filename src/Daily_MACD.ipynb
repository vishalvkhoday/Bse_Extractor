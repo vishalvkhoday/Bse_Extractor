{
 "cells": [
  {
   "cell_type": "code",
   "execution_count": null,
   "metadata": {},
   "outputs": [],
   "source": [
    "\n",
    "import pandas as pd\n",
    "import scipy\n",
    "import pyodbc\n",
    "\n",
    "import time\n",
    "\n",
    "conn = pyodbc.connect('DRIVER={ODBC Driver 17 for SQL Server};SERVER=LAPTOP-IFK6D8L3\\\\SQLEXPRESS;DATABASE=StockQuote;UID=sa;PWD=password')\n",
    "cur = conn.cursor()\n",
    "\n",
    "\n",
    "SQL_NLM_250 = \"\"\"\n",
    "\n",
    "select Script_Name from Index_Stock where Index_Name ='Niftylargemidcap250 ' \n",
    "\"\"\"\n",
    "df_NLM250 = pd.read_sql(SQL_NLM_250,conn)\n",
    "\n",
    "display(df_NLM250)"
   ]
  }
 ],
 "metadata": {
  "kernelspec": {
   "display_name": "Python 3",
   "language": "python",
   "name": "python3"
  },
  "language_info": {
   "name": "python",
   "version": "3.9.9 (tags/v3.9.9:ccb0e6a, Nov 15 2021, 18:08:50) [MSC v.1929 64 bit (AMD64)]"
  },
  "orig_nbformat": 4,
  "vscode": {
   "interpreter": {
    "hash": "52634da84371cba311ea128a5ea7cdc41ff074b781779e754b270ff9f8153cee"
   }
  }
 },
 "nbformat": 4,
 "nbformat_minor": 2
}
