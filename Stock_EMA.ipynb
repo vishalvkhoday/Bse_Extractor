
import pandas as pd
import scipy
import pyodbc

import time

conn = pyodbc.connect('DRIVER={ODBC Driver 17 for SQL Server};SERVER=LAPTOP-IFK6D8L3\\SQLEXPRESS;DATABASE=StockQuote;UID=sa;PWD=password')
cur = conn.cursor()


SQL = """ select * from NSE_EOD where Trnx_date > getdate()-10 order by Trnx_date desc
"""

df = pd.read_sql(SQL,conn)

print(df)